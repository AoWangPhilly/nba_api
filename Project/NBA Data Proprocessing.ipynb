{
 "cells": [
  {
   "cell_type": "code",
   "execution_count": null,
   "id": "6e41fa56",
   "metadata": {},
   "outputs": [],
   "source": [
    "import pandas as pd"
   ]
  },
  {
   "cell_type": "code",
   "execution_count": null,
   "id": "828c8139",
   "metadata": {},
   "outputs": [],
   "source": [
    "def feet_to_meter(height: str) -> float:\n",
    "    \"\"\"Converts feet'inches to meters\"\"\"\n",
    "    feet, inches = list(map(int, height.split(\"-\")))\n",
    "    return (feet * 12 + inches) * 2.54\n",
    "\n",
    "def process_team_roster(df: pd.DataFrame) -> pd.DataFrame:\n",
    "    \"\"\"Cleans the team roster data\"\"\"\n",
    "    output = df.copy(deep=True)\n",
    "    \n",
    "    # Drop columns we don't need\n",
    "    output.drop(columns=[\"LeagueID\", \"NICKNAME\", \"PLAYER_SLUG\", \"HOW_ACQUIRED\"], inplace=True)\n",
    "    \n",
    "    # Format columns to have title case and reformat columns with ID\n",
    "    output.columns = output.columns.str.title()\n",
    "    output.rename(columns={\n",
    "        \"Teamid\": \"Team_ID\",\n",
    "        \"Player_Id\": \"Player_ID\"\n",
    "    }, inplace=True)\n",
    "    \n",
    "    # Convert feet and inches to meter\n",
    "    output[\"Height\"] = output[\"Height\"].map(feet_to_meter)\n",
    "    output[\"Age\"] = output[\"Age\"].astype(int)\n",
    "    \n",
    "    # Convert pounds to kilograms\n",
    "    output[\"Weight\"] = output[\"Weight\"].astype(int)\n",
    "    output[\"Weight\"] = output[\"Weight\"].map(lambda weight: weight * 0.45359237)\n",
    "    \n",
    "    # Convert to DateTime\n",
    "    output[\"Birth_Date\"] = pd.to_datetime(output[\"Birth_Date\"])\n",
    "    return output"
   ]
  }
 ],
 "metadata": {
  "kernelspec": {
   "display_name": "Python 3 (ipykernel)",
   "language": "python",
   "name": "python3"
  },
  "language_info": {
   "codemirror_mode": {
    "name": "ipython",
    "version": 3
   },
   "file_extension": ".py",
   "mimetype": "text/x-python",
   "name": "python",
   "nbconvert_exporter": "python",
   "pygments_lexer": "ipython3",
   "version": "3.8.9"
  }
 },
 "nbformat": 4,
 "nbformat_minor": 5
}
