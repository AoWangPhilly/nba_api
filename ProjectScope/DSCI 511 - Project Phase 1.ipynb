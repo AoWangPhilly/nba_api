{
 "cells": [
  {
   "cell_type": "markdown",
   "id": "1cd9b87e",
   "metadata": {},
   "source": [
    "# DSCI 511 - Project Phase 1"
   ]
  },
  {
   "cell_type": "markdown",
   "id": "a9cab09b",
   "metadata": {},
   "source": [
    "## Background Report - Team Members\n",
    "\n",
    "<strong>Dara Kasrovi</strong>\n",
    "    \n",
    "I’m currently in Drexel University’s Economics Master Program. I’ve worked extensively with large data sets where I have used econometric techniques to analyze data. I have used various programming languages such as R, Stata, EViews, and Python (although I am a beginner with Python). My area of expertise lies in data analysis, data interpretation, and econometric modeling. I’m interested in learning more about Python, APIs, how to web scrape, and creating a data pipeline.\n",
    "\n",
    "During the project, I’ll aid my team if they have any questions regarding the topic we decided to choose and will additionally help with the programming. I am an avid sports fan and have been following the NBA (the topic of our project) for over 17 years.  \n",
    "\n",
    "\n",
    "<strong>Ao Wang</strong>\n",
    "    \n",
    "I’m currently in Drexel University’s BSMS program in Computer Science. I’ve done a co-op at the Vanguard Group and continued working there part-time as a Software Developer and Database Developer. My area of expertise lies in software development, database management systems, and machine learning. I’m interested in learning more about web scraping, API development, and creating a real-time data pipeline.\n",
    "\n",
    "During the project, I’ll aid my team if they have any technical programming problems and maintain a clean codebase.\n"
   ]
  },
  {
   "cell_type": "markdown",
   "id": "c759bd34",
   "metadata": {},
   "source": [
    "## What is Our Data and Purpose\n",
    "The dataset that we’re hoping to accomplish is data from the NBA Advanced Stats page. We want to scrape statistics about all the NBA teams and the players on each team. And for each player, we’ll find out their personal information, like their uniform number, the position they play, height, weight, birth date, and years of experience. We’ll also be interested in getting their game statistics, like points per game (PPG), rebounds per game (RPG), assists per game (APG), player impact estimate (PIE), and more. We hope the dataset collected will be good for creating an NBA team/player dashboard, visually showcasing each team’s and player’s stats. We also hope to create a predictor model that’s able to pick the winner given two teams with a high level of accuracy. "
   ]
  },
  {
   "cell_type": "markdown",
   "id": "d85e2e70",
   "metadata": {},
   "source": [
    "## Sample Data\n",
    "Here’s the exhibition of a sample of the NBA data. It shows that the data is available. For example, below’s the listing of the NBA teams by region.\n",
    "\n",
    "<br>\n",
    "<div><img src=\"teams.png\" width=\"500\"/></div>\n",
    "<br>\n",
    "\n",
    "After clicking on the team link, we can see the list of players and their personal information. In this example, this would be the Philadelphia 76ers.\n",
    "\n",
    "<br>\n",
    "<div><img src=\"roster.png\" width=\"500\"/></div>\n",
    "<br>\n",
    "\n",
    "After clicking the link for one of the players, we can see the game statistics, like points per game, rebound per game, and more. This example shows Tyrese Maxey from the Philadelphia 76ers.\n",
    "\n",
    "<br>\n",
    "<div><img src=\"banner.png\" width=\"500\"/></div>\n",
    "<br>\n",
    "\n",
    "Scrolling down from the player banner, we see a table showcasing more of the player statistics.\n",
    "\n",
    "\n",
    "<br>\n",
    "<div><img src=\"stats.png\" width=\"500\"/></div>\n",
    "<br>\n",
    "\n",
    "We hope to collect all this data about the teams and players. The submission provides the sample data, called <strong>DSCI 511 - Sample Data.xlsx</strong>. \n",
    "\n",
    "\n",
    "The excel file will show three tables, the first having information on all the current NBA teams. \n",
    "\n",
    "| ID | Region    | Teams                 | Team ID    |\n",
    "| -- | --------- | --------------------- | ---------- |\n",
    "| 0  | Atlantic  | Boston Celtics        | 1610612738 |\n",
    "| 1  | Central   | Chicago Bulls         | 1610612741 |\n",
    "| 2  | Southeast | Atlanta Hawks         | 1610612737 |\n",
    "| 3  | Northwest | Denver Nuggets        | 1610612743 |\n",
    "| 4  | Pacific   | Golden State Warriors | 1610612744 |\n",
    "| 5  | Atlantic  | Philadelphia 76ers    | 1610612755 |\n",
    "\n",
    "The second table shows the team’s roster, including all their personal information, like height, weight, and uniform number. \n",
    "\n",
    "| ID | Player            | No. | Pos | Height | Weight  | Birthdate | Age | Exp | School              | Team ID    | Player ID |\n",
    "| -- | ----------------- | --- | --- | ------ | ------- | --------- | --- | --- | ------------------- | ---------- | --------- |\n",
    "| 0  | Aminu Mohammed    | #   | G   | 6-5    | 210 lbs | 15-Dec-01 | 20  | R   | Georgetown          | 1610612755 | 1631198   |\n",
    "| 1  | Tyrese Maxey      | #0  | G   | 6-2    | 200 lbs | 4-Nov-00  | 21  | 2   | Kentucky            | 1610612755 | 1630178   |\n",
    "| 2  | James Harden      | #1  | G   | 6-5    | 220 lbs | 26-Aug-89 | 33  | 13  | Arizona State       | 1610612755 | 201935    |\n",
    "| 3  | Montrezl Harrell  | #5  | F-C | 6-7    | 240 lbs | 26-Jan-94 | 28  | 7   | Louisville          | 1610612755 | 1626149   |\n",
    "| 4  | De'Anthony Melton | #8  | G   | 6-2    | 200 lbs | 28-May-98 | 24  | 4   | Southern California | 1610612755 | 1629001   |\n",
    "\n",
    "\n",
    "The third table shows the player’s career regular season stats. \n",
    "\n",
    "| ID | Season  | TEAM | AGE | GP | GS | MIN  | PTS  | FGM | FGA | FG%  | 3PM | 3PA | 3P%  | FTM | FTA | FT%  | OREB | DREB | REB | AST | STL | BLK | TOV | PF  | Player ID |\n",
    "| -- | ------- | ---- | --- | -- | -- | ---- | ---- | --- | --- | ---- | --- | --- | ---- | --- | --- | ---- | ---- | ---- | --- | --- | --- | --- | --- | --- | --------- |\n",
    "| 0  | 2021-22 | BKN  | 32  | 44 | 44 | 1627 | 990  | 292 | 706 | 41.4 | 102 | 307 | 33.2 | 304 | 350 | 86.9 | 42   | 309  | 351 | 447 | 56  | 31  | 212 | 105 | 201935    |\n",
    "| 1  | 2021-22 | PHI  | 32  | 21 | 21 | 792  | 442  | 115 | 286 | 40.2 | 46  | 141 | 32.6 | 166 | 186 | 89.2 | 13   | 136  | 149 | 220 | 26  | 5   | 72  | 48  | 201935    |\n",
    "| 2  | 2021-22 | TOT  | 32  | 65 | 65 | 2420 | 1432 | 407 | 992 | 41   | 148 | 448 | 33   | 470 | 536 | 87.7 | 55   | 445  | 500 | 667 | 82  | 36  | 284 | 153 | 201935    |\n",
    "| 3  | 2020-21 | HOU  | 31  | 8  | 8  | 290  | 198  | 60  | 135 | 44.4 | 25  | 72  | 34.7 | 53  | 60  | 88.3 | 5    | 36   | 41  | 83  | 7   | 6   | 34  | 14  | 201935    |\n",
    "| 4  | 2020-21 | BKN  | 31  | 36 | 35 | 1319 | 885  | 282 | 599 | 47.1 | 96  | 262 | 36.6 | 225 | 263 | 85.6 | 30   | 277  | 307 | 392 | 46  | 27  | 143 | 85  | 201935    |\n"
   ]
  },
  {
   "cell_type": "markdown",
   "id": "bb0961ce",
   "metadata": {},
   "source": [
    "## Who Might Be Interested in Our Data Set\n",
    "\n",
    "* Passionate basketball fans who want to understand how analytics can impact a game and what factors lead to teams winning or losing\n",
    "* People interested in the predicted outcome of matches\n",
    "* Coaches, players, and sports analysts interested in gaining insight into player and team improvement\n",
    "\n"
   ]
  },
  {
   "cell_type": "markdown",
   "id": "247d5f07",
   "metadata": {},
   "source": [
    "## Steps to Make it Possible\n",
    "To get the data we want, we’ll have to know where the NBA stat data is. After doing some research, we saw that this link, https://www.nba.com/stats/teams, supplies links to all the NBA teams separated by region. And for each link, we are redirected to a page showcasing the team’s roster and all current players’ personal information, like the uniform number, position, height, weight, and much more. And for each row, the player's name links to their personal statistics page, showing their game statistics. \n",
    "\n",
    "Knowing that the data exists, it’s simple to scrape the data off the webpage with requests, BeautifulSoup, and Selenium. All the data is tabular, which makes it easier to scrape and turn into CSV files or save to a database.\n",
    "\n",
    "Additionally, we would also want the data to be accessible to users. We could save the data into Excel files, but it might be easier for people to access the data through an API. This would mean we’ll have to save the data in a database, perhaps in Postgres. Then we can create an API using either Flask or FastAPI.\n"
   ]
  },
  {
   "cell_type": "markdown",
   "id": "c2a4e230",
   "metadata": {},
   "source": [
    "## Length of Project\n",
    "Regarding how long we think it will take to build, I think it’ll be possible to program a scraper to get all the team and player data in a week. However, we would also like people to be able to access the data through an API, so I think it might take another week to build an API, so people can access the data. Therefore, the total project will take roughly two weeks to build, one week scraping the data and another creating an API so that other people can access the data. "
   ]
  },
  {
   "cell_type": "markdown",
   "id": "d788deb8",
   "metadata": {},
   "source": [
    "## How Our Data is Limited and Could Be Improved\n",
    "So far, we see no limitations in our data. We see all the team and player data we’ll need for now.\n"
   ]
  },
  {
   "cell_type": "markdown",
   "id": "5cbafbbc",
   "metadata": {},
   "source": [
    "## How Our Data Was Created\n",
    "According to the NBA’s FAQ, a player or team’s base statistics are updated simultaneously with the game and in real time. The advanced stats are updated between 10-15 minutes after a game finishes. Additionally, the NBA uses an optical tracking system that utilizes multiple cameras placed in the catwalks in all 29 NBA arenas. The cameras receive and update data at a rate of 25 frames per second. The cameras feed the data into proprietary software, where computer vision algorithms extract positional data for all players on the court and the ball. Player tracking systems introduce many new statistics, automate data collection, and provide precision, which would be impossible without the use of camera technology and tracking software.\n"
   ]
  },
  {
   "cell_type": "markdown",
   "id": "6108fc81",
   "metadata": {},
   "source": [
    "## Access Rights\n",
    "The data is unavailable for download or in CSV form. According to the NBA’s FAQ, the stats are unavailable for academic or personal use download. Therefore, we can assume there’s no public API, so we’ll have to build our own. We’ll have to scrape the data. Given that it’s a static webpage, we’re able to use the requests module to get the HTML of the page. However, we’ll have to use Selenium to get the page contents if it's a dynamic webpage. Then we can get the data we want with the BeautifulSoup module. The Pandas module also has helpful in parsing HTML tables and turning them into DataFrames.\n",
    "\n",
    "Since we want to create an API, we’d also want to make our data publicly available, hosting the code in Heroku or sharing the Excel or CSV files with Kaggle.\n"
   ]
  },
  {
   "cell_type": "markdown",
   "id": "76d5d14e",
   "metadata": {},
   "source": [
    "## Sources\n",
    "* https://www.nba.com/stats/help/faq\n",
    "* https://en.wikipedia.org/wiki/Player_tracking_(National_Basketball_Association)\n",
    "* https://www.nba.com/stats/teams \n"
   ]
  },
  {
   "cell_type": "code",
   "execution_count": null,
   "id": "9ec36baf",
   "metadata": {},
   "outputs": [],
   "source": []
  }
 ],
 "metadata": {
  "kernelspec": {
   "display_name": "Python 3 (ipykernel)",
   "language": "python",
   "name": "python3"
  },
  "language_info": {
   "codemirror_mode": {
    "name": "ipython",
    "version": 3
   },
   "file_extension": ".py",
   "mimetype": "text/x-python",
   "name": "python",
   "nbconvert_exporter": "python",
   "pygments_lexer": "ipython3",
   "version": "3.8.10"
  }
 },
 "nbformat": 4,
 "nbformat_minor": 5
}
