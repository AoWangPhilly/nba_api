{
 "cells": [
  {
   "cell_type": "markdown",
   "id": "127d92e4",
   "metadata": {},
   "source": [
    "# DSCI 511: Data Aquistion and Preprocessing\n",
    "\n",
    "## NBA API Final Project\n",
    "\n",
    "### Members:\n",
    "* Dara Kasrovi\n",
    "* Ao Wang"
   ]
  },
  {
   "cell_type": "markdown",
   "id": "63882cec",
   "metadata": {},
   "source": [
    "## Import Libraries"
   ]
  },
  {
   "cell_type": "code",
   "execution_count": null,
   "id": "019963d3",
   "metadata": {},
   "outputs": [],
   "source": [
    "# !pip install pandas\n",
    "# !pip install selenium\n",
    "# !pip install webdriver-manager"
   ]
  },
  {
   "cell_type": "code",
   "execution_count": null,
   "id": "c5853f31",
   "metadata": {},
   "outputs": [],
   "source": [
    "import re\n",
    "import json\n",
    "import os\n",
    "from concurrent import futures\n",
    "from typing import List, Dict, Any\n",
    "\n",
    "import pandas as pd\n",
    "import numpy as np\n",
    "import requests\n",
    "from bs4 import BeautifulSoup\n",
    "from selenium import webdriver\n",
    "from webdriver_manager.chrome import ChromeDriverManager\n",
    "from selenium.webdriver.chrome.service import Service as ChromeService\n",
    "from selenium.webdriver.support.wait import WebDriverWait\n",
    "from selenium.common.exceptions import NoSuchElementException\n",
    "from selenium.webdriver.common.by import By"
   ]
  },
  {
   "cell_type": "markdown",
   "id": "6c1ae45d",
   "metadata": {},
   "source": [
    "## Get NBA Teams \n",
    "\n",
    "After running the function, the output should look like this:\n",
    "\n",
    "|   | Division | Team               |    Team ID |\n",
    "|--:|---------:|-------------------:|-----------:|\n",
    "| 0 | Atlantic |     Boston Celtics | 1610612738 |\n",
    "| 1 | Atlantic |      Brooklyn Nets | 1610612751 |\n",
    "| 2 | Atlantic |    New York Knicks | 1610612752 |\n",
    "| 3 | Atlantic | Philadelphia 76ers | 1610612755 |\n",
    "| 4 | Atlantic |    Toronto Raptors | 1610612761 |\n"
   ]
  },
  {
   "cell_type": "code",
   "execution_count": null,
   "id": "f1484f6f",
   "metadata": {},
   "outputs": [],
   "source": [
    "def get_nba_teams() -> pd.DataFrame:\n",
    "    \"\"\"The function goes to the NBA team stats page and scrapes all the team data,\n",
    "    including division, team, and team ID\n",
    "    \n",
    "    Returns:\n",
    "        pd.DataFrame: the NBA teams\n",
    "    \"\"\"\n",
    "    url = \"https://www.nba.com/stats/teams\"\n",
    "    response = requests.get(url)\n",
    "    \n",
    "    # Check that the response was successful, i.e.  200 - good, 401, 404, etc - bad\n",
    "    if not response.ok:\n",
    "        print(\"Something went wrong in getting team listings\")\n",
    "        return pd.DataFrame()\n",
    "    \n",
    "    # Use bs4 and regex to get the table of teams\n",
    "    soup = BeautifulSoup(response.content, \"html.parser\")\n",
    "    regex = re.compile(\"^StatsTeamsList_divContent\")\n",
    "    table = soup.find(\"div\", {\"class\": regex})\n",
    "    \n",
    "    # Atlantic, Central, Southeast, etc are basketball divisions\n",
    "    chart = list(table.children)\n",
    "    output = []\n",
    "    \n",
    "    # Get the division, team, and team id in the HTML\n",
    "    for html in chart:\n",
    "        division = html.find(\"h2\").text\n",
    "        teams = html.find_all(\"a\")\n",
    "        for team in teams:\n",
    "            href = team[\"href\"].replace(\"/stats/team/\", \"\")\n",
    "            team_name = team.text\n",
    "            output.append([division, team_name, href])\n",
    "    return pd.DataFrame(output, columns=[\"Division\", \"Team\", \"Team ID\"])"
   ]
  },
  {
   "cell_type": "code",
   "execution_count": null,
   "id": "60cd640f",
   "metadata": {
    "scrolled": true
   },
   "outputs": [],
   "source": [
    "teams = get_nba_teams()\n",
    "teams"
   ]
  },
  {
   "cell_type": "markdown",
   "id": "0d0ad903",
   "metadata": {},
   "source": [
    "## Save NBA Teams to Directory"
   ]
  },
  {
   "cell_type": "code",
   "execution_count": null,
   "id": "2a282d92",
   "metadata": {},
   "outputs": [],
   "source": [
    "# if not os.path.isdir(\"nba\"):\n",
    "#     os.makedirs(\"nba\")\n",
    "# teams.to_csv(os.path.join(\"nba\", \"teams.csv\"))"
   ]
  },
  {
   "cell_type": "markdown",
   "id": "85117d01",
   "metadata": {},
   "source": [
    "## Get Team Roster"
   ]
  },
  {
   "cell_type": "code",
   "execution_count": null,
   "id": "630ce324",
   "metadata": {},
   "outputs": [],
   "source": [
    "def create_team_query(team_id: int, season: str = \"2022-23\") -> str:\n",
    "    \"\"\"Create URL for team roster\n",
    "    \n",
    "    Args:\n",
    "        team_id (int): the NBA team ID, i.e. 1610612755\n",
    "        season (str): the year of the roster, i.e. 2022-23\n",
    "    \n",
    "    Returns:\n",
    "        str: the URL for team roster\n",
    "    \"\"\"\n",
    "    return f\"https://www.nba.com/stats/team/{team_id}?Season={season}\""
   ]
  },
  {
   "cell_type": "code",
   "execution_count": null,
   "id": "c1637d66",
   "metadata": {},
   "outputs": [],
   "source": [
    "def get_team_roster(team_id: int, season: str = \"2022-23\") -> pd.DataFrame:\n",
    "    \"\"\"Gets the NBA team roster\n",
    "    \n",
    "    Args:\n",
    "        team_id (int): the NBA team ID, i.e. 1610612755\n",
    "        season (str): the year of the roster, i.e. 2022-23\n",
    "    \n",
    "    Returns:\n",
    "        pd.DataFrame: the NBA team roster\n",
    "    \"\"\"\n",
    "    print(team_id)\n",
    "    url = create_team_query(team_id=team_id, season=season)\n",
    "    response = requests.get(url)\n",
    "    i = 0\n",
    "    \n",
    "    # There are times where requests return a 502 - bad gateway,\n",
    "    # so just in case, make multiple requests\n",
    "    while not response.ok:\n",
    "        print(f\"There was an issue getting team id={team_id}!!\")\n",
    "        print(f\"Reattempting! Iteration {i + 1}\")\n",
    "        i += 1\n",
    "        \n",
    "        response = requests.get(url)\n",
    "    \n",
    "    # Find roster information\n",
    "    soup = BeautifulSoup(response.content, \"html.parser\")\n",
    "    output = json.loads(soup.find(\"script\", {\"id\": \"__NEXT_DATA__\"}).text)\n",
    "    return pd.DataFrame(output[\"props\"][\"pageProps\"][\"team\"][\"roster\"])"
   ]
  },
  {
   "cell_type": "code",
   "execution_count": null,
   "id": "c179330a",
   "metadata": {},
   "outputs": [],
   "source": [
    "philly_team = get_team_roster(team_id=1610612755)\n",
    "philly_team"
   ]
  },
  {
   "cell_type": "markdown",
   "id": "580d69b3",
   "metadata": {},
   "source": [
    "## Get all Players in NBA"
   ]
  },
  {
   "cell_type": "code",
   "execution_count": null,
   "id": "a9bfe9d2",
   "metadata": {
    "scrolled": true
   },
   "outputs": [],
   "source": [
    "def get_all_players(team_ids: List[int]) -> pd.DataFrame:\n",
    "    \"\"\"Get team rosters from all teams in NBA\n",
    "    \n",
    "    Args: \n",
    "        team_ids (List[int]): list of team IDs\n",
    "    \n",
    "    Returns:\n",
    "        pd.DataFrame: all the NBA players\n",
    "    \"\"\"\n",
    "    \n",
    "    # Used threads to speed up queries\n",
    "    with futures.ThreadPoolExecutor() as executor:\n",
    "        player_list = list(executor.map(get_team_roster, team_ids))\n",
    "    return pd.concat(player_list).reset_index(drop=True)"
   ]
  },
  {
   "cell_type": "code",
   "execution_count": null,
   "id": "3b2a66cd",
   "metadata": {},
   "outputs": [],
   "source": [
    "players = get_all_players(team_ids=teams[\"Team ID\"].to_list())\n",
    "players"
   ]
  },
  {
   "cell_type": "markdown",
   "id": "aa75c640",
   "metadata": {},
   "source": [
    "## Preprocess Team Roster"
   ]
  },
  {
   "cell_type": "code",
   "execution_count": null,
   "id": "bc9e5855",
   "metadata": {},
   "outputs": [],
   "source": [
    "def feet_to_meter(height: str) -> float:\n",
    "    \"\"\"Converts feet'inches to meters\"\"\"\n",
    "    feet, inches = list(map(int, height.split(\"-\")))\n",
    "    foot_to_inch_conversion = 12\n",
    "    inch_to_meter = 2.54\n",
    "    return (feet * foot_to_inch_conversion + inches) * inch_to_meter\n",
    "\n",
    "def process_team_roster(df: pd.DataFrame) -> pd.DataFrame:\n",
    "    \"\"\"Cleans the team roster data\"\"\"\n",
    "    pounds_to_kilograms = 0.45359237\n",
    "    output = df.copy(deep=True)\n",
    "    \n",
    "    # Drop columns we don't need\n",
    "    output.drop(columns=[\"LeagueID\", \"NICKNAME\", \"PLAYER_SLUG\", \"HOW_ACQUIRED\"], inplace=True)\n",
    "    \n",
    "    # Format columns to have title case and reformat columns with ID\n",
    "    output.columns = output.columns.str.title()\n",
    "    output.rename(columns={\n",
    "        \"Teamid\": \"Team ID\",\n",
    "        \"Player_Id\": \"Player ID\",\n",
    "        \"Birth_Date\": \"Birth Date\"\n",
    "    }, inplace=True)\n",
    "    \n",
    "    # Convert feet and inches to meter\n",
    "    output[\"Height\"] = output[\"Height\"].map(feet_to_meter)\n",
    "    output[\"Age\"] = output[\"Age\"].astype(int)\n",
    "    \n",
    "    # Convert pounds to kilograms\n",
    "    output[\"Weight\"] = output[\"Weight\"].astype(int)\n",
    "    output[\"Weight\"] = output[\"Weight\"].map(lambda weight: weight * pounds_to_kilograms)\n",
    "    \n",
    "    # Convert to DateTime\n",
    "    output[\"Birth Date\"] = pd.to_datetime(output[\"Birth Date\"])\n",
    "    return output"
   ]
  },
  {
   "cell_type": "code",
   "execution_count": null,
   "id": "492b9ec7",
   "metadata": {},
   "outputs": [],
   "source": [
    "processed_team_roster = process_team_roster(df=players)\n",
    "processed_team_roster"
   ]
  },
  {
   "cell_type": "code",
   "execution_count": null,
   "id": "4adc4394",
   "metadata": {},
   "outputs": [],
   "source": [
    "# processed_team_roster.to_csv(os.path.join(\"nba\", \"players.csv\"))"
   ]
  },
  {
   "cell_type": "markdown",
   "id": "02aa0542",
   "metadata": {},
   "source": [
    "## Get Player Dashboard Stats"
   ]
  },
  {
   "cell_type": "code",
   "execution_count": null,
   "id": "707ac8ec",
   "metadata": {},
   "outputs": [],
   "source": [
    "def create_player_query(player_id: int) -> str:\n",
    "    \"\"\"Creates URL for player career regular season stats\n",
    "    \n",
    "    Args:\n",
    "        player_id (int): the player's ID\n",
    "    \n",
    "    Returns:\n",
    "        str: the URL for player stats\n",
    "    \"\"\"\n",
    "    return f\"https://www.nba.com/stats/player/{player_id}/career?PerMode=Totals\""
   ]
  },
  {
   "cell_type": "code",
   "execution_count": null,
   "id": "4da7ecdd",
   "metadata": {},
   "outputs": [],
   "source": [
    "def get_quick_stats(player_id: int) -> Dict[str, Any]:\n",
    "    \"\"\"The function gets a player's quick stats that show up on the dashboard, such as the\n",
    "    PPG, RPG, APG, and PIE\n",
    "\n",
    "    Args:\n",
    "        player_id (int): the player's ID\n",
    "    \n",
    "    Returns:\n",
    "        Dict[str, Any]: the player's quick stats\n",
    "    \"\"\"\n",
    "    url = create_player_query(player_id=player_id)\n",
    "    print(url)\n",
    "    \n",
    "    player_response = requests.get(url)\n",
    "    player_soup = BeautifulSoup(player_response.content, \"html.parser\")\n",
    "    regex = re.compile(\"PlayerSummary_playerStat*\")\n",
    "    player_stats = player_soup.find_all(\"div\", class_=regex)\n",
    "    \n",
    "    stats = {\"Player ID\": player_id}\n",
    "    for i in player_stats:\n",
    "        stat_tags = list(i.children)\n",
    "        label, value = stat_tags\n",
    "        stats[label.text] = float(value.text) if value.text != \"--\" else np.nan\n",
    "    return stats"
   ]
  },
  {
   "cell_type": "code",
   "execution_count": null,
   "id": "4a86dc33",
   "metadata": {},
   "outputs": [],
   "source": [
    "def get_all_player_quick_stats(player_ids: List[int]) -> pd.DataFrame:\n",
    "    \"\"\"Get all the NBA player's quick stats from the dashboard\n",
    "    \n",
    "    Args:\n",
    "        player_ids (List[int]): all the player's IDs\n",
    "    \n",
    "    Returns:\n",
    "        pd.DataFrame: all the player's quick stats\n",
    "    \"\"\"\n",
    "    # Used threads to speed up queries\n",
    "    with futures.ThreadPoolExecutor() as executor:\n",
    "        player_list = list(executor.map(get_quick_stats, player_ids))\n",
    "    return pd.DataFrame(player_list)\n"
   ]
  },
  {
   "cell_type": "code",
   "execution_count": null,
   "id": "d952c4e1",
   "metadata": {
    "scrolled": true
   },
   "outputs": [],
   "source": [
    "player_ids = players[\"PLAYER_ID\"].to_list()\n",
    "quick_stats = get_all_player_quick_stats(player_ids=player_ids)"
   ]
  },
  {
   "cell_type": "code",
   "execution_count": null,
   "id": "686e46e2",
   "metadata": {},
   "outputs": [],
   "source": [
    "# quick_stats.to_csv(os.path.join(\"nba\", \"player_quick_stats.csv\"))"
   ]
  },
  {
   "cell_type": "markdown",
   "id": "d849ccd3",
   "metadata": {},
   "source": [
    "## Get Player Career Stats"
   ]
  },
  {
   "cell_type": "code",
   "execution_count": null,
   "id": "7d420c4b",
   "metadata": {},
   "outputs": [],
   "source": [
    "def loading_completed(driver) -> bool:\n",
    "    \"\"\"Allows the driver to know when the loading animation is over\n",
    "    \n",
    "    Args:\n",
    "        driver (selenium.webdriver.chrome.webdriver.WebDriver): the Selenium driver\n",
    "    \n",
    "    Returns:\n",
    "        bool: whether the loading animation is over\n",
    "    \"\"\"\n",
    "    try:\n",
    "        element = driver.find_element(By.CSS_SELECTOR, \"div[class*=LoadingOverlay]\")\n",
    "    except NoSuchElementException:\n",
    "        return False\n",
    "    return element.get_attribute(\"data-hidden\") == \"true\"\n"
   ]
  },
  {
   "cell_type": "code",
   "execution_count": null,
   "id": "c39911de",
   "metadata": {},
   "outputs": [],
   "source": [
    "def get_page_source(url: str) -> str:\n",
    "    \"\"\"Opens the player stats page and gets the HTML page source\n",
    "    \n",
    "    Args:\n",
    "        url (str): the player stats URL\n",
    "    \n",
    "    Returns:\n",
    "        str: the player stats HTML\n",
    "    \"\"\"\n",
    "    service = ChromeService(executable_path=ChromeDriverManager().install())\n",
    "    driver = webdriver.Chrome(service=service)\n",
    "\n",
    "    # Timeout in seconds\n",
    "    TIMEOUT = 30\n",
    "    \n",
    "    try:\n",
    "        wait = WebDriverWait(driver, timeout=TIMEOUT)\n",
    "        driver.get(url)\n",
    "        wait.until(loading_completed)\n",
    "        page_source = driver.page_source\n",
    "        driver.quit()\n",
    "        return page_source\n",
    "    except Exception:\n",
    "        raise Exception(\"Something went wrong!\")\n"
   ]
  },
  {
   "cell_type": "code",
   "execution_count": null,
   "id": "4bd3b148",
   "metadata": {},
   "outputs": [],
   "source": [
    "def get_player_info(player_id: int) -> pd.DataFrame:\n",
    "    \"\"\"Gets the player's career regular season stats\n",
    "    \n",
    "    Args:\n",
    "        player_id: the player's ID\n",
    "    \n",
    "    Returns:\n",
    "        pd.DataFrame: the player's career stats\n",
    "    \"\"\"\n",
    "    url = create_player_query(player_id=player_id)\n",
    "    print(url)\n",
    "    \n",
    "    # Retrieve the player's stats page\n",
    "    # Tries multiple times\n",
    "    i = 0\n",
    "    while True:\n",
    "        try:\n",
    "            page_content = get_page_source(url)\n",
    "        except Exception:\n",
    "            print(f\"Iteration #{i}: Issue getting page contents\")\n",
    "            i += 1\n",
    "    \n",
    "    # Looks for the CAREER REGULAR SEASON STATS table\n",
    "    soup = BeautifulSoup(page_content, \"html.parser\")\n",
    "    table = soup.find(\"table\", {\"class\": re.compile(\"Crom_table*\")})\n",
    "\n",
    "    try:\n",
    "        # Collect and format the table data\n",
    "        cols = [elem.text for elem in table.find_all(\"th\")[3:]]\n",
    "        rows = [row.text for row in table.find_all(\"td\")]\n",
    "        output = []\n",
    "        row = []\n",
    "        for i, v in enumerate(rows):\n",
    "            if i != 0 and i % len(cols) == 0:\n",
    "                output.append(row)\n",
    "                row = []\n",
    "\n",
    "            row.append(v)\n",
    "\n",
    "        df = pd.DataFrame(output, columns=cols)\n",
    "        df[\"PLAYER ID\"] = player_id\n",
    "        return df\n",
    "    except Exception:\n",
    "        # New players don't have stats, so return an empty DataFrame\n",
    "        if soup.find(\"div\", string=\"No data available\"):\n",
    "            print(f\"No data available for player: {player_id}\")\n",
    "            return pd.DataFrame()\n",
    "        print(\"There seems to be another issue!!\")\n"
   ]
  },
  {
   "cell_type": "code",
   "execution_count": null,
   "id": "10c8c56f",
   "metadata": {},
   "outputs": [],
   "source": [
    "def get_all_player_info(player_ids: List[int]) -> pd.DataFrame:\n",
    "    \"\"\"Get all the player's career statistics. I don't use threads with Selenium because\n",
    "    Chrome is a RAM-hog, and it wastes more time than just visiting a site one after another.\n",
    "    \n",
    "    Args:\n",
    "        player_ids (List[int]): all the player IDs\n",
    "    \n",
    "    Returns:\n",
    "        pd.DataFrame: all player career stats\n",
    "    \"\"\"\n",
    "    output = []\n",
    "    for idx, player_id in enumerate(player_ids):\n",
    "        print(f\"#{idx}\", end=\" \")\n",
    "        output.append(get_player_info(player_id))\n",
    "    return pd.concat(output).reset_index(drop=True)"
   ]
  },
  {
   "cell_type": "code",
   "execution_count": null,
   "id": "fe846363",
   "metadata": {},
   "outputs": [],
   "source": [
    "players_info = get_all_player_info(player_ids=player_ids[:5])"
   ]
  },
  {
   "cell_type": "code",
   "execution_count": null,
   "id": "2c157631",
   "metadata": {},
   "outputs": [],
   "source": []
  },
  {
   "cell_type": "code",
   "execution_count": null,
   "id": "f2d65ea7",
   "metadata": {},
   "outputs": [],
   "source": [
    "def process_career_stats(df: pd.DataFrame) -> pd.DataFrame:\n",
    "    \"\"\"Process the career stats. Changing the column names and making the statistics into numeric types\n",
    "    instead of strings.\n",
    "    \n",
    "    Args:\n",
    "        df (pd.DataFrame): the raw career stats\n",
    "        \n",
    "    Returns:\n",
    "        pd.DataFrame: the processed career stats\n",
    "    \"\"\"\n",
    "    df = df.copy(deep=True)\n",
    "    df.drop(columns=\"SCHOOL\", inplace=True)\n",
    "    df.rename(columns={\n",
    "        \"TEAM\": \"Team\", \n",
    "        \"AGE\": \"Age\",\n",
    "        \"PLAYER ID\": \"Player ID\",\n",
    "    }, inplace=True)\n",
    "    \n",
    "    int_cols = list(set(df.columns) - {\"Season\", \"Team\"})\n",
    "    df[int_cols] = df[int_cols].apply(pd.to_numeric)\n",
    "    return df"
   ]
  },
  {
   "cell_type": "code",
   "execution_count": null,
   "id": "0e7529f1",
   "metadata": {
    "scrolled": true
   },
   "outputs": [],
   "source": [
    "career_stats = process_career_stats(players_info)"
   ]
  },
  {
   "cell_type": "code",
   "execution_count": null,
   "id": "6c527ad2",
   "metadata": {},
   "outputs": [],
   "source": [
    "# career_stats.to_csv(os.path.join(\"nba\", \"player_info.csv\"))"
   ]
  },
  {
   "cell_type": "code",
   "execution_count": null,
   "id": "32f31214",
   "metadata": {},
   "outputs": [],
   "source": []
  }
 ],
 "metadata": {
  "kernelspec": {
   "display_name": "Python 3 (ipykernel)",
   "language": "python",
   "name": "python3"
  },
  "language_info": {
   "codemirror_mode": {
    "name": "ipython",
    "version": 3
   },
   "file_extension": ".py",
   "mimetype": "text/x-python",
   "name": "python",
   "nbconvert_exporter": "python",
   "pygments_lexer": "ipython3",
   "version": "3.8.9"
  }
 },
 "nbformat": 4,
 "nbformat_minor": 5
}